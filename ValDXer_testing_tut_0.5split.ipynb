{
 "cells": [
  {
   "cell_type": "code",
   "execution_count": null,
   "metadata": {},
   "outputs": [],
   "source": [
    "### ValDXer testing\n",
    "import os\n",
    "from ValDX.ValidationDX import ValDXer\n",
    "from ValDX.VDX_Settings import Settings\n",
    "\n",
    "settings = Settings(name='test_full0.5')\n",
    "settings.replicates = 2\n",
    "settings.gamma_range = (2,6)\n",
    "settings.train_frac = 0.5\n",
    "settings.RW_exponent = [0]\n",
    "settings.split_mode = 'r'\n",
    "settings.HDXer_stride = 10000\n",
    "settings.RW_do_reweighting = False\n",
    "import pickle\n",
    "\n",
    "VDX = ValDXer(settings)\n",
    "expt_name = 'Experimental'\n",
    "test_name = \"MD_Simulated\"\n"
   ]
  },
  {
   "cell_type": "markdown",
   "metadata": {},
   "source": []
  },
  {
   "cell_type": "code",
   "execution_count": null,
   "metadata": {},
   "outputs": [],
   "source": [
    "print(os.environ[\"HDXER_PATH\"])\n",
    "print(__name__)"
   ]
  },
  {
   "cell_type": "code",
   "execution_count": null,
   "metadata": {},
   "outputs": [],
   "source": [
    "import subprocess\n",
    "from ValDX.helpful_funcs import conda_to_env_dict\n",
    "\n",
    "# Assuming settings.HDXer_env contains the name of your Conda environment\n",
    "env_path = conda_to_env_dict(settings.HDXer_env)\n",
    "\n",
    "command = \"echo $HDXER_PATH\"\n",
    "print(\"command:\", command)\n",
    "\n",
    "# Run the command in the subprocess\n",
    "output = subprocess.run(command, shell=True, env=env_path, capture_output=True, text=True)\n",
    "\n",
    "# Capture and print the standard output (stdout)\n",
    "hdxer_path = output.stdout.strip()  # .strip() removes any trailing newline\n",
    "print(\"HDXER_PATH:\", hdxer_path)\n"
   ]
  },
  {
   "cell_type": "code",
   "execution_count": null,
   "metadata": {},
   "outputs": [],
   "source": [
    "# BPTI data\n",
    "BPTI_dir = \"/Users/alexi/Library/CloudStorage/OneDrive-Nexus365/Rotation_Projects/Rotation_3/Project/ValDX/raw_data/HDXer_tutorial/BPTI\"\n",
    "BPTI_dir = \"/home/alexi/Documents/ValDX/raw_data/HDXer_tutorial/BPTI\"\n"
   ]
  },
  {
   "cell_type": "code",
   "execution_count": null,
   "metadata": {},
   "outputs": [],
   "source": [
    "expt_dir = os.path.join(BPTI_dir, \"BPTI_expt_data\")\n",
    "\n",
    "os.listdir(expt_dir)\n",
    "\n",
    "segs_name = \"BPTI_residue_segs.txt\"\n",
    "segs_path = os.path.join(expt_dir, segs_name)\n",
    "\n",
    "hdx_name = \"BPTI_expt_dfracs.dat\"\n",
    "hdx_path = os.path.join(expt_dir, hdx_name)\n",
    "print(hdx_path)\n",
    "\n",
    "rates_name = \"BPTI_Intrinsic_rates.dat\"\n",
    "rates_path = os.path.join(expt_dir, rates_name)\n"
   ]
  },
  {
   "cell_type": "code",
   "execution_count": null,
   "metadata": {},
   "outputs": [],
   "source": [
    "\n",
    "VDX.load_HDX_data(HDX_path=hdx_path, SEG_path=segs_path, calc_name=expt_name)\n",
    "VDX.load_intrinsic_rates(path=rates_path, calc_name=expt_name)\n"
   ]
  },
  {
   "cell_type": "code",
   "execution_count": null,
   "metadata": {},
   "outputs": [],
   "source": [
    "print(VDX.rates)"
   ]
  },
  {
   "cell_type": "code",
   "execution_count": null,
   "metadata": {},
   "outputs": [],
   "source": [
    "print(VDX.paths)\n"
   ]
  },
  {
   "cell_type": "code",
   "execution_count": null,
   "metadata": {},
   "outputs": [],
   "source": []
  },
  {
   "cell_type": "code",
   "execution_count": null,
   "metadata": {},
   "outputs": [],
   "source": [
    "sim_name = 'BPTI_MD'\n",
    "\n",
    "sim_dir = os.path.join(BPTI_dir, \"BPTI_simulations\")\n",
    "\n",
    "os.listdir(sim_dir)\n",
    "\n",
    "md_reps = 1\n",
    "rep_dirs = [\"Run_\"+str(i+1) for i in range(md_reps)]\n",
    "\n",
    "top_name = \"bpti_5pti_eq6_protonly.gro\"\n",
    "\n",
    "top_path = os.path.join(sim_dir, rep_dirs[0], top_name)\n",
    "\n",
    "traj_name = \"bpti_5pti_reimg_protonly.xtc\"\n",
    "\n",
    "traj_paths = [os.path.join(sim_dir, rep_dir, traj_name) for rep_dir in rep_dirs]\n",
    "\n",
    "print(top_path)\n",
    "print(traj_paths)\n",
    "\n",
    "\n",
    "VDX.load_structures(top_path=top_path, traj_paths=traj_paths, calc_name=sim_name)"
   ]
  },
  {
   "cell_type": "code",
   "execution_count": null,
   "metadata": {},
   "outputs": [],
   "source": [
    "print((traj_paths))"
   ]
  },
  {
   "cell_type": "code",
   "execution_count": null,
   "metadata": {},
   "outputs": [],
   "source": [
    "VDX.load_structures(top_path=top_path, traj_paths=traj_paths, calc_name=test_name)\n"
   ]
  },
  {
   "cell_type": "code",
   "execution_count": null,
   "metadata": {},
   "outputs": [],
   "source": [
    "VDX.settings.RW_do_reweighting"
   ]
  },
  {
   "cell_type": "code",
   "execution_count": null,
   "metadata": {},
   "outputs": [],
   "source": [
    "train_dfs, val_dfs, train_gammas, val_gammas = VDX.run_VDX(calc_name=test_name, expt_name=expt_name)"
   ]
  },
  {
   "cell_type": "code",
   "execution_count": null,
   "metadata": {},
   "outputs": [],
   "source": [
    "test_list = [i for i in range(1, 2)]\n",
    "print(test_list)"
   ]
  },
  {
   "cell_type": "code",
   "execution_count": null,
   "metadata": {},
   "outputs": [],
   "source": [
    "VDX.save_experiment()\n",
    "\n",
    "dump = train_dfs, val_dfs, train_gammas, val_gammas\n",
    "\n",
    "import pickle\n",
    "with open(f'dump_{VDX.name}.pickle', 'wb') as f:\n",
    "    print(f\"Saving pickle\", f'dump_{VDX.name}.pickle')\n",
    "    pickle.dump(dump, f)"
   ]
  },
  {
   "cell_type": "code",
   "execution_count": null,
   "metadata": {},
   "outputs": [],
   "source": [
    "break\n"
   ]
  },
  {
   "cell_type": "code",
   "execution_count": null,
   "metadata": {},
   "outputs": [],
   "source": [
    "VDX = VDX.load_experiment(load_path='logs/test_full0.53_1705423086.pkl')"
   ]
  },
  {
   "cell_type": "code",
   "execution_count": null,
   "metadata": {},
   "outputs": [],
   "source": []
  },
  {
   "cell_type": "code",
   "execution_count": null,
   "metadata": {},
   "outputs": [],
   "source": [
    "with open('dump_test_full0.53.pickle', 'rb') as f:\n",
    "    dump = pickle.load(f)\n",
    "\n",
    "train_dfs, val_dfs, train_gammas, val_gammas = dump\n",
    "\n",
    "VDX.evaluate_HDX(train_dfs=train_dfs, \n",
    "                 val_dfs=val_dfs, \n",
    "                 calc_name=test_name,\n",
    "                 expt_name=expt_name,\n",
    "                 train_gammas=train_gammas, \n",
    "                 val_gammas=val_gammas, \n",
    "                 n_reps=VDX.settings.replicates,\n",
    "                   )"
   ]
  },
  {
   "cell_type": "markdown",
   "metadata": {},
   "source": []
  },
  {
   "cell_type": "markdown",
   "metadata": {},
   "source": []
  },
  {
   "cell_type": "markdown",
   "metadata": {},
   "source": []
  },
  {
   "cell_type": "markdown",
   "metadata": {},
   "source": []
  },
  {
   "cell_type": "markdown",
   "metadata": {},
   "source": []
  },
  {
   "cell_type": "code",
   "execution_count": null,
   "metadata": {},
   "outputs": [],
   "source": [
    "import pandas as pd"
   ]
  },
  {
   "cell_type": "markdown",
   "metadata": {},
   "source": []
  },
  {
   "cell_type": "code",
   "execution_count": null,
   "metadata": {},
   "outputs": [],
   "source": [
    "# file_name = \"covid_submissions_all_info.csv\""
   ]
  },
  {
   "cell_type": "code",
   "execution_count": null,
   "metadata": {},
   "outputs": [],
   "source": [
    "# sub_test = pd.read_csv(file_name)"
   ]
  },
  {
   "cell_type": "code",
   "execution_count": null,
   "metadata": {},
   "outputs": [],
   "source": [
    "# sub_test.columns.to_list()"
   ]
  },
  {
   "cell_type": "markdown",
   "metadata": {},
   "source": []
  },
  {
   "cell_type": "code",
   "execution_count": null,
   "metadata": {},
   "outputs": [],
   "source": []
  },
  {
   "cell_type": "code",
   "execution_count": null,
   "metadata": {},
   "outputs": [],
   "source": []
  }
 ],
 "metadata": {
  "kernelspec": {
   "display_name": "HDXER_ENV",
   "language": "python",
   "name": "python3"
  },
  "language_info": {
   "codemirror_mode": {
    "name": "ipython",
    "version": 3
   },
   "file_extension": ".py",
   "mimetype": "text/x-python",
   "name": "python",
   "nbconvert_exporter": "python",
   "pygments_lexer": "ipython3",
   "version": "3.10.13"
  }
 },
 "nbformat": 4,
 "nbformat_minor": 2
}
