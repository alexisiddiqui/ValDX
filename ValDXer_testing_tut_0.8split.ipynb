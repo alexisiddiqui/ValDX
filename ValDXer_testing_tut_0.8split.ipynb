{
 "cells": [
  {
   "cell_type": "code",
   "execution_count": 1,
   "metadata": {},
   "outputs": [],
   "source": [
    "### ValDXer testing\n",
    "import os\n",
    "os.environ['HDXER_PATH'] = '/home/alexi/Documents/HDXer'\n"
   ]
  },
  {
   "cell_type": "code",
   "execution_count": 2,
   "metadata": {},
   "outputs": [
    {
     "name": "stdout",
     "output_type": "stream",
     "text": [
      "/home/alexi/Documents/ValDX\n"
     ]
    },
    {
     "name": "stderr",
     "output_type": "stream",
     "text": [
      "/home/alexi/miniconda3/envs/HDXER_ENV/lib/python3.10/site-packages/tqdm/auto.py:21: TqdmWarning: IProgress not found. Please update jupyter and ipywidgets. See https://ipywidgets.readthedocs.io/en/stable/user_install.html\n",
      "  from .autonotebook import tqdm as notebook_tqdm\n"
     ]
    },
    {
     "name": "stdout",
     "output_type": "stream",
     "text": [
      "Path to 'HDXER_ENV' environment: /home/alexi/miniconda3/envs/HDXER_ENV\n",
      "Experiment name test_full0.5__celeste_bigEXPrange already exists. Attempting to change name to test_full0.5__celeste_bigEXPrange0\n",
      "Experiment name test_full0.5__celeste_bigEXPrange already exists. Attempting to change name to test_full0.5__celeste_bigEXPrange1\n"
     ]
    }
   ],
   "source": [
    "\n",
    "from ValDX.ValidationDX import ValDXer\n",
    "from ValDX.VDX_Settings import Settings\n",
    "\n",
    "settings = Settings(name='test_full0.5__celeste_bigEXPrange')\n",
    "settings.replicates = 5\n",
    "settings.gamma_range = (2,10)\n",
    "settings.train_frac = 0.8\n",
    "\n",
    "import pickle\n",
    "\n",
    "VDX = ValDXer(settings)\n",
    "expt_name = 'Experimental'\n",
    "test_name = \"MD_Simulated\"\n"
   ]
  },
  {
   "cell_type": "markdown",
   "metadata": {},
   "source": []
  },
  {
   "cell_type": "code",
   "execution_count": 3,
   "metadata": {},
   "outputs": [
    {
     "name": "stdout",
     "output_type": "stream",
     "text": [
      "/home/alexi/Documents/HDXer\n"
     ]
    }
   ],
   "source": [
    "import os\n",
    "print(os.getenv('HDXER_PATH'))\n"
   ]
  },
  {
   "cell_type": "code",
   "execution_count": 4,
   "metadata": {},
   "outputs": [
    {
     "name": "stdout",
     "output_type": "stream",
     "text": [
      "/home/alexi/Documents/HDXer\n",
      "__main__\n"
     ]
    }
   ],
   "source": [
    "print(os.environ[\"HDXER_PATH\"])\n",
    "print(__name__)"
   ]
  },
  {
   "cell_type": "code",
   "execution_count": 5,
   "metadata": {},
   "outputs": [
    {
     "name": "stdout",
     "output_type": "stream",
     "text": [
      "Path to 'HDXER_ENV' environment: /home/alexi/miniconda3/envs/HDXER_ENV\n",
      "command: echo $HDXER_PATH\n",
      "HDXER_PATH: /home/alexi/Documents/HDXer\n"
     ]
    }
   ],
   "source": [
    "import subprocess\n",
    "from ValDX.helpful_funcs import conda_to_env_dict\n",
    "\n",
    "# Assuming settings.HDXer_env contains the name of your Conda environment\n",
    "env_path = conda_to_env_dict(settings.HDXer_env)\n",
    "\n",
    "command = \"echo $HDXER_PATH\"\n",
    "print(\"command:\", command)\n",
    "\n",
    "# Run the command in the subprocess\n",
    "output = subprocess.run(command, shell=True, env=env_path, capture_output=True, text=True)\n",
    "\n",
    "# Capture and print the standard output (stdout)\n",
    "hdxer_path = output.stdout.strip()  # .strip() removes any trailing newline\n",
    "print(\"HDXER_PATH:\", hdxer_path)\n"
   ]
  },
  {
   "cell_type": "code",
   "execution_count": 6,
   "metadata": {},
   "outputs": [],
   "source": [
    "# BPTI data\n",
    "BPTI_dir = \"/Users/alexi/Library/CloudStorage/OneDrive-Nexus365/Rotation_Projects/Rotation_3/Project/ValDX/raw_data/HDXer_tutorial/BPTI\"\n",
    "BPTI_dir = \"/home/alexi/Documents/ValDX/raw_data/HDXer_tutorial/BPTI\"\n",
    "\n"
   ]
  },
  {
   "cell_type": "code",
   "execution_count": 7,
   "metadata": {},
   "outputs": [
    {
     "name": "stdout",
     "output_type": "stream",
     "text": [
      "/home/alexi/Documents/ValDX/raw_data/HDXer_tutorial/BPTI/BPTI_expt_data/BPTI_expt_dfracs.dat\n"
     ]
    }
   ],
   "source": [
    "expt_dir = os.path.join(BPTI_dir, \"BPTI_expt_data\")\n",
    "\n",
    "os.listdir(expt_dir)\n",
    "\n",
    "segs_name = \"BPTI_residue_segs.txt\"\n",
    "segs_path = os.path.join(expt_dir, segs_name)\n",
    "\n",
    "hdx_name = \"BPTI_expt_dfracs.dat\"\n",
    "hdx_path = os.path.join(expt_dir, hdx_name)\n",
    "print(hdx_path)\n",
    "\n",
    "rates_name = \"BPTI_Intrinsic_rates.dat\"\n",
    "rates_path = os.path.join(expt_dir, rates_name)\n"
   ]
  },
  {
   "cell_type": "code",
   "execution_count": 8,
   "metadata": {},
   "outputs": [
    {
     "name": "stdout",
     "output_type": "stream",
     "text": [
      "Preparing HDX data for Experimental\n",
      "Path /home/alexi/Documents/ValDX/raw_data/HDXer_tutorial/BPTI/BPTI_expt_data/BPTI_expt_dfracs.dat\n",
      "AVG: ncol = 6, len(names) = 4\n"
     ]
    }
   ],
   "source": [
    "\n",
    "VDX.load_HDX_data(HDX_path=hdx_path, SEG_path=segs_path, calc_name=expt_name)\n",
    "VDX.load_intrinsic_rates(path=rates_path, calc_name=expt_name)\n"
   ]
  },
  {
   "cell_type": "code",
   "execution_count": 9,
   "metadata": {},
   "outputs": [
    {
     "name": "stdout",
     "output_type": "stream",
     "text": [
      "Empty DataFrame\n",
      "Columns: []\n",
      "Index: []\n"
     ]
    }
   ],
   "source": [
    "print(VDX.rates)"
   ]
  },
  {
   "cell_type": "code",
   "execution_count": 10,
   "metadata": {},
   "outputs": [
    {
     "name": "stdout",
     "output_type": "stream",
     "text": [
      "                                                 HDX  \\\n",
      "0  /home/alexi/Documents/ValDX/raw_data/HDXer_tut...   \n",
      "1                                                NaN   \n",
      "\n",
      "                                                 SEG     calc_name  \\\n",
      "0  /home/alexi/Documents/ValDX/raw_data/HDXer_tut...  Experimental   \n",
      "1                                                NaN  Experimental   \n",
      "\n",
      "   experimental                                          int_rates  \n",
      "0         False                                                NaN  \n",
      "1         False  /home/alexi/Documents/ValDX/raw_data/HDXer_tut...  \n"
     ]
    }
   ],
   "source": [
    "print(VDX.paths)\n"
   ]
  },
  {
   "cell_type": "code",
   "execution_count": null,
   "metadata": {},
   "outputs": [],
   "source": []
  },
  {
   "cell_type": "code",
   "execution_count": 11,
   "metadata": {},
   "outputs": [
    {
     "name": "stdout",
     "output_type": "stream",
     "text": [
      "/home/alexi/Documents/ValDX/raw_data/HDXer_tutorial/BPTI/BPTI_simulations/Run_1/bpti_5pti_eq6_protonly.gro\n",
      "['/home/alexi/Documents/ValDX/raw_data/HDXer_tutorial/BPTI/BPTI_simulations/Run_1/bpti_5pti_reimg_protonly.xtc', '/home/alexi/Documents/ValDX/raw_data/HDXer_tutorial/BPTI/BPTI_simulations/Run_2/bpti_5pti_reimg_protonly.xtc', '/home/alexi/Documents/ValDX/raw_data/HDXer_tutorial/BPTI/BPTI_simulations/Run_3/bpti_5pti_reimg_protonly.xtc', '/home/alexi/Documents/ValDX/raw_data/HDXer_tutorial/BPTI/BPTI_simulations/Run_4/bpti_5pti_reimg_protonly.xtc', '/home/alexi/Documents/ValDX/raw_data/HDXer_tutorial/BPTI/BPTI_simulations/Run_5/bpti_5pti_reimg_protonly.xtc']\n",
      "                                                 HDX  \\\n",
      "0  /home/alexi/Documents/ValDX/raw_data/HDXer_tut...   \n",
      "1                                                NaN   \n",
      "2                                                NaN   \n",
      "\n",
      "                                                 SEG     calc_name  \\\n",
      "0  /home/alexi/Documents/ValDX/raw_data/HDXer_tut...  Experimental   \n",
      "1                                                NaN  Experimental   \n",
      "2                                                NaN       BPTI_MD   \n",
      "\n",
      "  experimental                                          int_rates  \\\n",
      "0        False                                                NaN   \n",
      "1        False  /home/alexi/Documents/ValDX/raw_data/HDXer_tut...   \n",
      "2          NaN                                                NaN   \n",
      "\n",
      "                                                 top  \\\n",
      "0                                                NaN   \n",
      "1                                                NaN   \n",
      "2  /home/alexi/Documents/ValDX/raw_data/HDXer_tut...   \n",
      "\n",
      "                                                traj  \n",
      "0                                                NaN  \n",
      "1                                                NaN  \n",
      "2  [/home/alexi/Documents/ValDX/raw_data/HDXer_tu...  \n",
      "Structures loaded BPTI_MD: \n",
      "BPTI_MD Topology: <Universe with 892 atoms>\n",
      "BPTI_MD Trajectory: <Universe with 892 atoms>\n",
      "BPTI_MD Traj: no frames 50005\n"
     ]
    }
   ],
   "source": [
    "sim_name = 'BPTI_MD'\n",
    "\n",
    "sim_dir = os.path.join(BPTI_dir, \"BPTI_simulations\")\n",
    "\n",
    "os.listdir(sim_dir)\n",
    "\n",
    "md_reps = 5\n",
    "rep_dirs = [\"Run_\"+str(i+1) for i in range(md_reps)]\n",
    "\n",
    "top_name = \"bpti_5pti_eq6_protonly.gro\"\n",
    "\n",
    "top_path = os.path.join(sim_dir, rep_dirs[0], top_name)\n",
    "\n",
    "traj_name = \"bpti_5pti_reimg_protonly.xtc\"\n",
    "\n",
    "traj_paths = [os.path.join(sim_dir, rep_dir, traj_name) for rep_dir in rep_dirs]\n",
    "\n",
    "print(top_path)\n",
    "print(traj_paths)\n",
    "\n",
    "\n",
    "VDX.load_structures(top_path=top_path, traj_paths=traj_paths, calc_name=sim_name)"
   ]
  },
  {
   "cell_type": "code",
   "execution_count": 12,
   "metadata": {},
   "outputs": [
    {
     "name": "stdout",
     "output_type": "stream",
     "text": [
      "['/home/alexi/Documents/ValDX/raw_data/HDXer_tutorial/BPTI/BPTI_simulations/Run_1/bpti_5pti_reimg_protonly.xtc', '/home/alexi/Documents/ValDX/raw_data/HDXer_tutorial/BPTI/BPTI_simulations/Run_2/bpti_5pti_reimg_protonly.xtc', '/home/alexi/Documents/ValDX/raw_data/HDXer_tutorial/BPTI/BPTI_simulations/Run_3/bpti_5pti_reimg_protonly.xtc', '/home/alexi/Documents/ValDX/raw_data/HDXer_tutorial/BPTI/BPTI_simulations/Run_4/bpti_5pti_reimg_protonly.xtc', '/home/alexi/Documents/ValDX/raw_data/HDXer_tutorial/BPTI/BPTI_simulations/Run_5/bpti_5pti_reimg_protonly.xtc']\n"
     ]
    }
   ],
   "source": [
    "print((traj_paths))"
   ]
  },
  {
   "cell_type": "code",
   "execution_count": 13,
   "metadata": {},
   "outputs": [
    {
     "name": "stdout",
     "output_type": "stream",
     "text": [
      "                                                 HDX  \\\n",
      "0  /home/alexi/Documents/ValDX/raw_data/HDXer_tut...   \n",
      "1                                                NaN   \n",
      "2                                                NaN   \n",
      "3                                                NaN   \n",
      "\n",
      "                                                 SEG     calc_name  \\\n",
      "0  /home/alexi/Documents/ValDX/raw_data/HDXer_tut...  Experimental   \n",
      "1                                                NaN  Experimental   \n",
      "2                                                NaN       BPTI_MD   \n",
      "3                                                NaN  MD_Simulated   \n",
      "\n",
      "  experimental                                          int_rates  \\\n",
      "0        False                                                NaN   \n",
      "1        False  /home/alexi/Documents/ValDX/raw_data/HDXer_tut...   \n",
      "2          NaN                                                NaN   \n",
      "3          NaN                                                NaN   \n",
      "\n",
      "                                                 top  \\\n",
      "0                                                NaN   \n",
      "1                                                NaN   \n",
      "2  /home/alexi/Documents/ValDX/raw_data/HDXer_tut...   \n",
      "3  /home/alexi/Documents/ValDX/raw_data/HDXer_tut...   \n",
      "\n",
      "                                                traj  \n",
      "0                                                NaN  \n",
      "1                                                NaN  \n",
      "2  [/home/alexi/Documents/ValDX/raw_data/HDXer_tu...  \n",
      "3  [/home/alexi/Documents/ValDX/raw_data/HDXer_tu...  \n",
      "Structures loaded MD_Simulated: \n",
      "MD_Simulated Topology: <Universe with 892 atoms>\n",
      "MD_Simulated Trajectory: <Universe with 892 atoms>\n",
      "MD_Simulated Traj: no frames 50005\n"
     ]
    }
   ],
   "source": [
    "VDX.load_structures(top_path=top_path, traj_paths=traj_paths, calc_name=test_name)\n"
   ]
  },
  {
   "cell_type": "code",
   "execution_count": 14,
   "metadata": {},
   "outputs": [
    {
     "data": {
      "text/html": [
       "<div>\n",
       "<style scoped>\n",
       "    .dataframe tbody tr th:only-of-type {\n",
       "        vertical-align: middle;\n",
       "    }\n",
       "\n",
       "    .dataframe tbody tr th {\n",
       "        vertical-align: top;\n",
       "    }\n",
       "\n",
       "    .dataframe thead th {\n",
       "        text-align: right;\n",
       "    }\n",
       "</style>\n",
       "<table border=\"1\" class=\"dataframe\">\n",
       "  <thead>\n",
       "    <tr style=\"text-align: right;\">\n",
       "      <th></th>\n",
       "      <th>HDX</th>\n",
       "      <th>SEG</th>\n",
       "      <th>calc_name</th>\n",
       "      <th>experimental</th>\n",
       "      <th>int_rates</th>\n",
       "      <th>top</th>\n",
       "      <th>traj</th>\n",
       "    </tr>\n",
       "  </thead>\n",
       "  <tbody>\n",
       "    <tr>\n",
       "      <th>0</th>\n",
       "      <td>/home/alexi/Documents/ValDX/raw_data/HDXer_tut...</td>\n",
       "      <td>/home/alexi/Documents/ValDX/raw_data/HDXer_tut...</td>\n",
       "      <td>Experimental</td>\n",
       "      <td>False</td>\n",
       "      <td>NaN</td>\n",
       "      <td>NaN</td>\n",
       "      <td>NaN</td>\n",
       "    </tr>\n",
       "    <tr>\n",
       "      <th>1</th>\n",
       "      <td>NaN</td>\n",
       "      <td>NaN</td>\n",
       "      <td>Experimental</td>\n",
       "      <td>False</td>\n",
       "      <td>/home/alexi/Documents/ValDX/raw_data/HDXer_tut...</td>\n",
       "      <td>NaN</td>\n",
       "      <td>NaN</td>\n",
       "    </tr>\n",
       "    <tr>\n",
       "      <th>2</th>\n",
       "      <td>NaN</td>\n",
       "      <td>NaN</td>\n",
       "      <td>BPTI_MD</td>\n",
       "      <td>NaN</td>\n",
       "      <td>NaN</td>\n",
       "      <td>/home/alexi/Documents/ValDX/raw_data/HDXer_tut...</td>\n",
       "      <td>[/home/alexi/Documents/ValDX/raw_data/HDXer_tu...</td>\n",
       "    </tr>\n",
       "    <tr>\n",
       "      <th>3</th>\n",
       "      <td>NaN</td>\n",
       "      <td>NaN</td>\n",
       "      <td>MD_Simulated</td>\n",
       "      <td>NaN</td>\n",
       "      <td>NaN</td>\n",
       "      <td>/home/alexi/Documents/ValDX/raw_data/HDXer_tut...</td>\n",
       "      <td>[/home/alexi/Documents/ValDX/raw_data/HDXer_tu...</td>\n",
       "    </tr>\n",
       "  </tbody>\n",
       "</table>\n",
       "</div>"
      ],
      "text/plain": [
       "                                                 HDX  \\\n",
       "0  /home/alexi/Documents/ValDX/raw_data/HDXer_tut...   \n",
       "1                                                NaN   \n",
       "2                                                NaN   \n",
       "3                                                NaN   \n",
       "\n",
       "                                                 SEG     calc_name  \\\n",
       "0  /home/alexi/Documents/ValDX/raw_data/HDXer_tut...  Experimental   \n",
       "1                                                NaN  Experimental   \n",
       "2                                                NaN       BPTI_MD   \n",
       "3                                                NaN  MD_Simulated   \n",
       "\n",
       "  experimental                                          int_rates  \\\n",
       "0        False                                                NaN   \n",
       "1        False  /home/alexi/Documents/ValDX/raw_data/HDXer_tut...   \n",
       "2          NaN                                                NaN   \n",
       "3          NaN                                                NaN   \n",
       "\n",
       "                                                 top  \\\n",
       "0                                                NaN   \n",
       "1                                                NaN   \n",
       "2  /home/alexi/Documents/ValDX/raw_data/HDXer_tut...   \n",
       "3  /home/alexi/Documents/ValDX/raw_data/HDXer_tut...   \n",
       "\n",
       "                                                traj  \n",
       "0                                                NaN  \n",
       "1                                                NaN  \n",
       "2  [/home/alexi/Documents/ValDX/raw_data/HDXer_tu...  \n",
       "3  [/home/alexi/Documents/ValDX/raw_data/HDXer_tu...  "
      ]
     },
     "execution_count": 14,
     "metadata": {},
     "output_type": "execute_result"
    }
   ],
   "source": [
    "VDX.paths"
   ]
  },
  {
   "cell_type": "code",
   "execution_count": 15,
   "metadata": {},
   "outputs": [
    {
     "name": "stdout",
     "output_type": "stream",
     "text": [
      "Random seeds: [42, 43, 44, 45, 46]\n",
      "Randomly splitting segments for MD_Simulated with random seed 42 and train fraction 0.8\n",
      "Saved train MD_Simulated segments to /home/alexi/Documents/ValDX/data/test_full0.5__celeste_bigEXPrange1/train_MD_Simulated_1/train_residue_segs__MD_Simulated_.txt\n",
      "Train Peptide numbers: [ 0  1  2  3  4  5  6  8  9 11 12 13 15 16 17 19 21 23 24 25 26 27 29 30\n",
      " 31 32 33 34 35 36 37 39 40]\n",
      "Saved val MD_Simulated segments to /home/alexi/Documents/ValDX/data/test_full0.5__celeste_bigEXPrange1/val_MD_Simulated_1/val_residue_segs__MD_Simulated_.txt\n",
      "Val Peptide numbers: [ 7 10 14 18 20 22 28 38]\n",
      "    ResStr  ResEnd    0.167      1.0     10.0    120.0  peptide  \\\n",
      "0       34      35  0.00109  0.00649  0.06306  0.54232       24   \n",
      "1       22      23  0.00000  0.00000  0.00003  0.00037       13   \n",
      "2       17      18  0.00028  0.00165  0.01638  0.17975        8   \n",
      "3       35      36  0.01528  0.08809  0.60233  0.99998       25   \n",
      "4       11      12  0.99880  1.00000  1.00000  1.00000        4   \n",
      "5       55      56  0.17259  0.67841  0.99999  1.00000       40   \n",
      "6       29      30  0.99999  1.00000  1.00000  1.00000       19   \n",
      "7       54      55  0.00650  0.03831  0.32339  0.99079       39   \n",
      "8       41      42  1.00000  1.00000  1.00000  1.00000       29   \n",
      "9       15      16  0.23198  0.79413  1.00000  1.00000        6   \n",
      "10      36      37  0.00314  0.01865  0.17161  0.89558       26   \n",
      "11      21      22  0.00000  0.00000  0.00003  0.00037       12   \n",
      "12      27      28  0.08746  0.42191  0.99583  1.00000       17   \n",
      "13      18      19  0.91192  1.00000  1.00000  1.00000        9   \n",
      "14      24      25  1.00000  1.00000  1.00000  1.00000       15   \n",
      "15      44      45  0.00033  0.00198  0.01961  0.21154       32   \n",
      "16      26      27  0.43718  0.96800  1.00000  1.00000       16   \n",
      "17      50      51  0.00805  0.04724  0.38365  0.99699       35   \n",
      "18      47      48  1.00000  1.00000  1.00000  1.00000       34   \n",
      "19       4       5  0.15669  0.63957  0.99996  1.00000        0   \n",
      "20      37      38  1.00000  1.00000  1.00000  1.00000       27   \n",
      "21      13      14  0.82092  0.99997  1.00000  1.00000        5   \n",
      "22      20      21  0.00000  0.00000  0.00003  0.00037       11   \n",
      "23       5       6  0.09039  0.43293  0.99656  1.00000        1   \n",
      "24      42      43  0.99842  1.00000  1.00000  1.00000       30   \n",
      "25      31      32  0.61477  0.99669  1.00000  1.00000       21   \n",
      "26       6       7  0.02665  0.14933  0.80157  1.00000        2   \n",
      "27      43      44  0.00111  0.00663  0.06433  0.54975       31   \n",
      "28      52      53  0.01757  0.10068  0.65396  1.00000       37   \n",
      "29       9      10  0.18680  0.71010  1.00000  1.00000        3   \n",
      "30      51      52  0.00963  0.05627  0.43963  0.99904       36   \n",
      "31      33      34  0.68572  0.99902  1.00000  1.00000       23   \n",
      "32      46      47  0.99928  1.00000  1.00000  1.00000       33   \n",
      "\n",
      "               calc_name                                               path  \n",
      "0   train_MD_Simulated_1  /home/alexi/Documents/ValDX/data/test_full0.5_...  \n",
      "1   train_MD_Simulated_1  /home/alexi/Documents/ValDX/data/test_full0.5_...  \n",
      "2   train_MD_Simulated_1  /home/alexi/Documents/ValDX/data/test_full0.5_...  \n",
      "3   train_MD_Simulated_1  /home/alexi/Documents/ValDX/data/test_full0.5_...  \n",
      "4   train_MD_Simulated_1  /home/alexi/Documents/ValDX/data/test_full0.5_...  \n",
      "5   train_MD_Simulated_1  /home/alexi/Documents/ValDX/data/test_full0.5_...  \n",
      "6   train_MD_Simulated_1  /home/alexi/Documents/ValDX/data/test_full0.5_...  \n",
      "7   train_MD_Simulated_1  /home/alexi/Documents/ValDX/data/test_full0.5_...  \n",
      "8   train_MD_Simulated_1  /home/alexi/Documents/ValDX/data/test_full0.5_...  \n",
      "9   train_MD_Simulated_1  /home/alexi/Documents/ValDX/data/test_full0.5_...  \n",
      "10  train_MD_Simulated_1  /home/alexi/Documents/ValDX/data/test_full0.5_...  \n",
      "11  train_MD_Simulated_1  /home/alexi/Documents/ValDX/data/test_full0.5_...  \n",
      "12  train_MD_Simulated_1  /home/alexi/Documents/ValDX/data/test_full0.5_...  \n",
      "13  train_MD_Simulated_1  /home/alexi/Documents/ValDX/data/test_full0.5_...  \n",
      "14  train_MD_Simulated_1  /home/alexi/Documents/ValDX/data/test_full0.5_...  \n",
      "15  train_MD_Simulated_1  /home/alexi/Documents/ValDX/data/test_full0.5_...  \n",
      "16  train_MD_Simulated_1  /home/alexi/Documents/ValDX/data/test_full0.5_...  \n",
      "17  train_MD_Simulated_1  /home/alexi/Documents/ValDX/data/test_full0.5_...  \n",
      "18  train_MD_Simulated_1  /home/alexi/Documents/ValDX/data/test_full0.5_...  \n",
      "19  train_MD_Simulated_1  /home/alexi/Documents/ValDX/data/test_full0.5_...  \n",
      "20  train_MD_Simulated_1  /home/alexi/Documents/ValDX/data/test_full0.5_...  \n",
      "21  train_MD_Simulated_1  /home/alexi/Documents/ValDX/data/test_full0.5_...  \n",
      "22  train_MD_Simulated_1  /home/alexi/Documents/ValDX/data/test_full0.5_...  \n",
      "23  train_MD_Simulated_1  /home/alexi/Documents/ValDX/data/test_full0.5_...  \n",
      "24  train_MD_Simulated_1  /home/alexi/Documents/ValDX/data/test_full0.5_...  \n",
      "25  train_MD_Simulated_1  /home/alexi/Documents/ValDX/data/test_full0.5_...  \n",
      "26  train_MD_Simulated_1  /home/alexi/Documents/ValDX/data/test_full0.5_...  \n",
      "27  train_MD_Simulated_1  /home/alexi/Documents/ValDX/data/test_full0.5_...  \n",
      "28  train_MD_Simulated_1  /home/alexi/Documents/ValDX/data/test_full0.5_...  \n",
      "29  train_MD_Simulated_1  /home/alexi/Documents/ValDX/data/test_full0.5_...  \n",
      "30  train_MD_Simulated_1  /home/alexi/Documents/ValDX/data/test_full0.5_...  \n",
      "31  train_MD_Simulated_1  /home/alexi/Documents/ValDX/data/test_full0.5_...  \n",
      "32  train_MD_Simulated_1  /home/alexi/Documents/ValDX/data/test_full0.5_...  \n",
      "#\tResStr\tResEnd\t0.167\t1.0\t10.0\t120.0\t times/min\n",
      "\n",
      "Saved train MD_Simulated HDX data to /home/alexi/Documents/ValDX/data/test_full0.5__celeste_bigEXPrange1/train_MD_Simulated_1/train_MD_Simulated_1_expt_dfracs.dat\n",
      "   ResStr  ResEnd    0.167      1.0     10.0    120.0  peptide  \\\n",
      "0      16      17  1.00000  1.00000  1.00000  1.00000        7   \n",
      "1      19      20  0.00005  0.00030  0.00298  0.03517       10   \n",
      "2      23      24  0.00039  0.00232  0.02300  0.24364       14   \n",
      "3      28      29  0.00158  0.00943  0.09044  0.67940       18   \n",
      "4      30      31  0.00028  0.00166  0.01649  0.18087       20   \n",
      "5      32      33  0.00033  0.00198  0.01966  0.21197       22   \n",
      "6      40      41  0.16309  0.65565  0.99998  1.00000       28   \n",
      "7      53      54  0.09888  0.46390  0.99804  1.00000       38   \n",
      "\n",
      "            calc_name                                               path  \n",
      "0  val_MD_Simulated_1  /home/alexi/Documents/ValDX/data/test_full0.5_...  \n",
      "1  val_MD_Simulated_1  /home/alexi/Documents/ValDX/data/test_full0.5_...  \n",
      "2  val_MD_Simulated_1  /home/alexi/Documents/ValDX/data/test_full0.5_...  \n",
      "3  val_MD_Simulated_1  /home/alexi/Documents/ValDX/data/test_full0.5_...  \n",
      "4  val_MD_Simulated_1  /home/alexi/Documents/ValDX/data/test_full0.5_...  \n",
      "5  val_MD_Simulated_1  /home/alexi/Documents/ValDX/data/test_full0.5_...  \n",
      "6  val_MD_Simulated_1  /home/alexi/Documents/ValDX/data/test_full0.5_...  \n",
      "7  val_MD_Simulated_1  /home/alexi/Documents/ValDX/data/test_full0.5_...  \n",
      "#\tResStr\tResEnd\t0.167\t1.0\t10.0\t120.0\t times/min\n",
      "\n",
      "Saved val MD_Simulated HDX data to /home/alexi/Documents/ValDX/data/test_full0.5__celeste_bigEXPrange1/val_MD_Simulated_1/val_MD_Simulated_1_expt_dfracs.dat\n",
      "/home/alexi/Documents/ValDX/data/test_full0.5__celeste_bigEXPrange1/train_MD_Simulated_1\n",
      "MD_Simulated\n",
      "/home/alexi/Documents/ValDX/data/test_full0.5__celeste_bigEXPrange1/train_MD_Simulated_1/out__train_MD_Simulated_1\n"
     ]
    },
    {
     "name": "stdout",
     "output_type": "stream",
     "text": [
      "Path to 'HDXER_ENV' environment: /home/alexi/miniconda3/envs/HDXER_ENV\n",
      "python /home/alexi/Documents/HDXer/HDXer/calc_hdx.py -t /home/alexi/Documents/ValDX/raw_data/HDXer_tutorial/BPTI/BPTI_simulations/Run_1/bpti_5pti_reimg_protonly.xtc /home/alexi/Documents/ValDX/raw_data/HDXer_tutorial/BPTI/BPTI_simulations/Run_2/bpti_5pti_reimg_protonly.xtc /home/alexi/Documents/ValDX/raw_data/HDXer_tutorial/BPTI/BPTI_simulations/Run_3/bpti_5pti_reimg_protonly.xtc /home/alexi/Documents/ValDX/raw_data/HDXer_tutorial/BPTI/BPTI_simulations/Run_4/bpti_5pti_reimg_protonly.xtc /home/alexi/Documents/ValDX/raw_data/HDXer_tutorial/BPTI/BPTI_simulations/Run_5/bpti_5pti_reimg_protonly.xtc -p /home/alexi/Documents/ValDX/raw_data/HDXer_tutorial/BPTI/BPTI_simulations/Run_1/bpti_5pti_eq6_protonly.gro -m BestVendruscolo -log /home/alexi/Documents/ValDX/data/test_full0.5__celeste_bigEXPrange1/train_MD_Simulated_1/calc_hdx_train_MD_Simulated_1.log -out /home/alexi/Documents/ValDX/data/test_full0.5__celeste_bigEXPrange1/train_MD_Simulated_1/out__train_MD_Simulated_1 -seg /home/alexi/Documents/ValDX/data/test_full0.5__celeste_bigEXPrange1/train_MD_Simulated_1/train_residue_segs__MD_Simulated_.txt -mopt \"{ 'save_detailed' : True }\" --times 0.167 1.0 10.0 120.0 -str 1\n",
      "Path to 'HDXER_ENV' environment: /home/alexi/miniconda3/envs/HDXER_ENV\n",
      "Residue predictions complete\n"
     ]
    },
    {
     "name": "stderr",
     "output_type": "stream",
     "text": [
      "/home/alexi/miniconda3/envs/HDXER_ENV/lib/python3.10/site-packages/numpy/core/_methods.py:206: RuntimeWarning: Degrees of freedom <= 0 for slice\n",
      "  ret = _var(a, axis=axis, dtype=dtype, out=out, ddof=ddof,\n",
      "/home/alexi/miniconda3/envs/HDXER_ENV/lib/python3.10/site-packages/numpy/core/_methods.py:206: RuntimeWarning: Degrees of freedom <= 0 for slice\n",
      "  ret = _var(a, axis=axis, dtype=dtype, out=out, ddof=ddof,\n",
      "/home/alexi/miniconda3/envs/HDXER_ENV/lib/python3.10/site-packages/numpy/core/_methods.py:206: RuntimeWarning: Degrees of freedom <= 0 for slice\n",
      "  ret = _var(a, axis=axis, dtype=dtype, out=out, ddof=ddof,\n",
      "/home/alexi/miniconda3/envs/HDXER_ENV/lib/python3.10/site-packages/numpy/core/_methods.py:206: RuntimeWarning: Degrees of freedom <= 0 for slice\n",
      "  ret = _var(a, axis=axis, dtype=dtype, out=out, ddof=ddof,\n",
      "/home/alexi/miniconda3/envs/HDXER_ENV/lib/python3.10/site-packages/numpy/core/_methods.py:206: RuntimeWarning: Degrees of freedom <= 0 for slice\n",
      "  ret = _var(a, axis=axis, dtype=dtype, out=out, ddof=ddof,\n"
     ]
    },
    {
     "name": "stdout",
     "output_type": "stream",
     "text": [
      "Path /home/alexi/Documents/ValDX/data/test_full0.5__celeste_bigEXPrange1/train_MD_Simulated_1/out__train_MD_Simulated_1Segment_average_fractions.dat\n",
      "AVG: ncol = 6, len(names) = 4\n",
      "Experimental MD_Simulated True 1\n",
      "/home/alexi/Documents/ValDX/data/test_full0.5__celeste_bigEXPrange1/train_MD_Simulated_1/train_MD_Simulated_1_expt_dfracs.dat\n",
      "/home/alexi/Documents/ValDX/data/test_full0.5__celeste_bigEXPrange1/train_MD_Simulated_1\n",
      "/home/alexi/Documents/ValDX/data/test_full0.5__celeste_bigEXPrange1/train_MD_Simulated_1/out__train_MD_Simulated_1Intrinsic_rates.dat\n",
      "REWIGHTING train_MD_Simulated_1 with Exponent: -4\n",
      "REWIGHTING train_MD_Simulated_1 with Exponent: -3\n",
      "REWIGHTING train_MD_Simulated_1 with Exponent: -2\n",
      "REWIGHTING train_MD_Simulated_1 with Exponent: -1\n",
      "REWIGHTING train_MD_Simulated_1 with Exponent: 0\n",
      "REWIGHTING train_MD_Simulated_1 with Exponent: 1\n",
      "Trying concurrent.futures\n",
      "/home/alexi/Documents/ValDX/data/test_full0.5__celeste_bigEXPrange1/train_MD_Simulated_1/reweighting_gamma_2x10^-4/home/alexi/Documents/ValDX/data/test_full0.5__celeste_bigEXPrange1/train_MD_Simulated_1/reweighting_gamma_2x10^-2/home/alexi/Documents/ValDX/data/test_full0.5__celeste_bigEXPrange1/train_MD_Simulated_1/reweighting_gamma_2x10^-3/home/alexi/Documents/ValDX/data/test_full0.5__celeste_bigEXPrange1/train_MD_Simulated_1/reweighting_gamma_2x10^-1/home/alexi/Documents/ValDX/data/test_full0.5__celeste_bigEXPrange1/train_MD_Simulated_1/reweighting_gamma_2x10^1/home/alexi/Documents/ValDX/data/test_full0.5__celeste_bigEXPrange1/train_MD_Simulated_1/reweighting_gamma_3x10^-4/home/alexi/Documents/ValDX/data/test_full0.5__celeste_bigEXPrange1/train_MD_Simulated_1/reweighting_gamma_2x10^0/home/alexi/Documents/ValDX/data/test_full0.5__celeste_bigEXPrange1/train_MD_Simulated_1/reweighting_gamma_3x10^-1/home/alexi/Documents/ValDX/data/test_full0.5__celeste_bigEXPrange1/train_MD_Simulated_1/reweighting_gamma_3x10^-2\n",
      "\n",
      "\n",
      "\n",
      "/home/alexi/Documents/ValDX/data/test_full0.5__celeste_bigEXPrange1/train_MD_Simulated_1/reweighting_gamma_3x10^0/home/alexi/Documents/ValDX/data/test_full0.5__celeste_bigEXPrange1/train_MD_Simulated_1/reweighting_gamma_3x10^-3\n",
      "/home/alexi/Documents/ValDX/data/test_full0.5__celeste_bigEXPrange1/train_MD_Simulated_1/reweighting_gamma_4x10^0\n",
      "/home/alexi/Documents/ValDX/data/test_full0.5__celeste_bigEXPrange1/train_MD_Simulated_1/reweighting_gamma_4x10^-3/home/alexi/Documents/ValDX/data/test_full0.5__celeste_bigEXPrange1/train_MD_Simulated_1/reweighting_gamma_4x10^-1/home/alexi/Documents/ValDX/data/test_full0.5__celeste_bigEXPrange1/train_MD_Simulated_1/reweighting_gamma_4x10^-2/home/alexi/Documents/ValDX/data/test_full0.5__celeste_bigEXPrange1/train_MD_Simulated_1/reweighting_gamma_4x10^1/home/alexi/Documents/ValDX/data/test_full0.5__celeste_bigEXPrange1/train_MD_Simulated_1/reweighting_gamma_5x10^-4\n",
      "/home/alexi/Documents/ValDX/data/test_full0.5__celeste_bigEXPrange1/train_MD_Simulated_1/reweighting_gamma_5x10^-3\n",
      "\n",
      "\n",
      "\n",
      "\n",
      "\n",
      "\n",
      "\n",
      "\n",
      "\n",
      "\n",
      "/home/alexi/Documents/ValDX/data/test_full0.5__celeste_bigEXPrange1/train_MD_Simulated_1/reweighting_gamma_3x10^1/home/alexi/Documents/ValDX/data/test_full0.5__celeste_bigEXPrange1/train_MD_Simulated_1/reweighting_gamma_4x10^-4\n",
      "\n",
      "Contacts readContacts read\n",
      "\n",
      "Hbonds read\n",
      "Segments and experimental dfracs read\n",
      "Hbonds read\n",
      "Segments and experimental dfracs read\n",
      "Contacts read\n",
      "Hbonds read\n",
      "Contacts readSegments and experimental dfracs readContacts readContacts readContacts readContacts read\n",
      "\n",
      "\n",
      "\n",
      "Contacts readContacts readContacts read\n",
      "Contacts read\n",
      "\n",
      "Contacts read\n",
      "\n",
      "Contacts read\n",
      "Contacts read\n",
      "\n",
      "Contacts readContacts readHbonds readHbonds readHbonds read\n",
      "\n",
      "Contacts read\n",
      "Hbonds readContacts read\n",
      "\n",
      "\n",
      "\n",
      "Hbonds readHbonds readHbonds readHbonds readHbonds read\n",
      "\n",
      "\n",
      "Segments and experimental dfracs readHbonds read\n",
      "\n",
      "\n",
      "\n",
      "\n",
      "Hbonds readSegments and experimental dfracs read\n",
      "Segments and experimental dfracs readContacts readSegments and experimental dfracs readSegments and experimental dfracs read\n",
      "\n",
      "\n",
      "\n",
      "Hbonds readHbonds read\n",
      "Segments and experimental dfracs readSegments and experimental dfracs read\n",
      "Segments and experimental dfracs readHbonds readHbonds read\n",
      "\n",
      "\n",
      "\n",
      "Segments and experimental dfracs read\n",
      "\n",
      "\n",
      "Segments and experimental dfracs readSegments and experimental dfracs readHbonds read\n",
      "\n",
      "Segments and experimental dfracs readHbonds readSegments and experimental dfracs read\n",
      "Segments and experimental dfracs read\n",
      "\n",
      "\n",
      "Segments and experimental dfracs read\n",
      "\n",
      "Segments and experimental dfracs readSegments and experimental dfracs read\n",
      "\n",
      "\n",
      "/home/alexi/Documents/ValDX/data/test_full0.5__celeste_bigEXPrange1/train_MD_Simulated_1/reweighting_gamma_5x10^-2\n",
      "Contacts read\n",
      "Hbonds read\n",
      "Segments and experimental dfracs read\n",
      "/home/alexi/Documents/ValDX/data/test_full0.5__celeste_bigEXPrange1/train_MD_Simulated_1/reweighting_gamma_5x10^-1\n",
      "Contacts read\n",
      "Hbonds read\n",
      "Segments and experimental dfracs read\n",
      "/home/alexi/Documents/ValDX/data/test_full0.5__celeste_bigEXPrange1/train_MD_Simulated_1/reweighting_gamma_5x10^0\n",
      "Contacts read\n",
      "Hbonds read\n",
      "Segments and experimental dfracs read\n",
      "/home/alexi/Documents/ValDX/data/test_full0.5__celeste_bigEXPrange1/train_MD_Simulated_1/reweighting_gamma_5x10^1\n",
      "Contacts read\n",
      "Hbonds read\n",
      "Segments and experimental dfracs read\n",
      "/home/alexi/Documents/ValDX/data/test_full0.5__celeste_bigEXPrange1/train_MD_Simulated_1/reweighting_gamma_6x10^-4\n",
      "Contacts read\n",
      "Hbonds read\n",
      "Segments and experimental dfracs read\n",
      "/home/alexi/Documents/ValDX/data/test_full0.5__celeste_bigEXPrange1/train_MD_Simulated_1/reweighting_gamma_6x10^-3\n",
      "Contacts read\n",
      "Hbonds read\n",
      "Segments and experimental dfracs read\n",
      "/home/alexi/Documents/ValDX/data/test_full0.5__celeste_bigEXPrange1/train_MD_Simulated_1/reweighting_gamma_6x10^-2\n",
      "Contacts read\n",
      "Hbonds read\n",
      "Segments and experimental dfracs read\n",
      "/home/alexi/Documents/ValDX/data/test_full0.5__celeste_bigEXPrange1/train_MD_Simulated_1/reweighting_gamma_6x10^-1\n",
      "Contacts read\n",
      "Hbonds read\n",
      "Segments and experimental dfracs read\n",
      "/home/alexi/Documents/ValDX/data/test_full0.5__celeste_bigEXPrange1/train_MD_Simulated_1/reweighting_gamma_6x10^0\n",
      "Contacts read\n",
      "Hbonds read\n",
      "Segments and experimental dfracs read\n",
      "/home/alexi/Documents/ValDX/data/test_full0.5__celeste_bigEXPrange1/train_MD_Simulated_1/reweighting_gamma_6x10^1\n",
      "Contacts read\n",
      "Hbonds read\n",
      "Segments and experimental dfracs read\n"
     ]
    },
    {
     "ename": "TypeError",
     "evalue": "catching classes that do not inherit from BaseException is not allowed",
     "output_type": "error",
     "traceback": [
      "\u001b[0;31m---------------------------------------------------------------------------\u001b[0m",
      "\u001b[0;31mKeyboardInterrupt\u001b[0m                         Traceback (most recent call last)",
      "File \u001b[0;32m~/Documents/ValDX/ValDX/ValidationDX.py:277\u001b[0m, in \u001b[0;36mValDXer.reweight_HDX\u001b[0;34m(self, expt_name, calc_name, gamma_range, train, rep, train_gamma)\u001b[0m\n\u001b[1;32m    276\u001b[0m args_r \u001b[38;5;241m=\u001b[39m [(args, r) \u001b[38;5;28;01mfor\u001b[39;00m r \u001b[38;5;129;01min\u001b[39;00m \u001b[38;5;28mrange\u001b[39m(\u001b[38;5;241m*\u001b[39mgamma_range) \u001b[38;5;28;01mfor\u001b[39;00m args \u001b[38;5;129;01min\u001b[39;00m args_e]\n\u001b[0;32m--> 277\u001b[0m \u001b[38;5;28;01mwith\u001b[39;00m concurrent\u001b[38;5;241m.\u001b[39mfutures\u001b[38;5;241m.\u001b[39mProcessPoolExecutor() \u001b[38;5;28;01mas\u001b[39;00m executor:\n\u001b[1;32m    278\u001b[0m     executor\u001b[38;5;241m.\u001b[39mmap(run_MaxEnt, args_r)\n",
      "File \u001b[0;32m~/miniconda3/envs/HDXER_ENV/lib/python3.10/concurrent/futures/_base.py:649\u001b[0m, in \u001b[0;36mExecutor.__exit__\u001b[0;34m(self, exc_type, exc_val, exc_tb)\u001b[0m\n\u001b[1;32m    648\u001b[0m \u001b[38;5;28;01mdef\u001b[39;00m \u001b[38;5;21m__exit__\u001b[39m(\u001b[38;5;28mself\u001b[39m, exc_type, exc_val, exc_tb):\n\u001b[0;32m--> 649\u001b[0m     \u001b[38;5;28;43mself\u001b[39;49m\u001b[38;5;241;43m.\u001b[39;49m\u001b[43mshutdown\u001b[49m\u001b[43m(\u001b[49m\u001b[43mwait\u001b[49m\u001b[38;5;241;43m=\u001b[39;49m\u001b[38;5;28;43;01mTrue\u001b[39;49;00m\u001b[43m)\u001b[49m\n\u001b[1;32m    650\u001b[0m     \u001b[38;5;28;01mreturn\u001b[39;00m \u001b[38;5;28;01mFalse\u001b[39;00m\n",
      "File \u001b[0;32m~/miniconda3/envs/HDXER_ENV/lib/python3.10/concurrent/futures/process.py:780\u001b[0m, in \u001b[0;36mProcessPoolExecutor.shutdown\u001b[0;34m(self, wait, cancel_futures)\u001b[0m\n\u001b[1;32m    779\u001b[0m \u001b[38;5;28;01mif\u001b[39;00m \u001b[38;5;28mself\u001b[39m\u001b[38;5;241m.\u001b[39m_executor_manager_thread \u001b[38;5;129;01mis\u001b[39;00m \u001b[38;5;129;01mnot\u001b[39;00m \u001b[38;5;28;01mNone\u001b[39;00m \u001b[38;5;129;01mand\u001b[39;00m wait:\n\u001b[0;32m--> 780\u001b[0m     \u001b[38;5;28;43mself\u001b[39;49m\u001b[38;5;241;43m.\u001b[39;49m\u001b[43m_executor_manager_thread\u001b[49m\u001b[38;5;241;43m.\u001b[39;49m\u001b[43mjoin\u001b[49m\u001b[43m(\u001b[49m\u001b[43m)\u001b[49m\n\u001b[1;32m    781\u001b[0m \u001b[38;5;66;03m# To reduce the risk of opening too many files, remove references to\u001b[39;00m\n\u001b[1;32m    782\u001b[0m \u001b[38;5;66;03m# objects that use file descriptors.\u001b[39;00m\n",
      "File \u001b[0;32m~/miniconda3/envs/HDXER_ENV/lib/python3.10/threading.py:1096\u001b[0m, in \u001b[0;36mThread.join\u001b[0;34m(self, timeout)\u001b[0m\n\u001b[1;32m   1095\u001b[0m \u001b[38;5;28;01mif\u001b[39;00m timeout \u001b[38;5;129;01mis\u001b[39;00m \u001b[38;5;28;01mNone\u001b[39;00m:\n\u001b[0;32m-> 1096\u001b[0m     \u001b[38;5;28;43mself\u001b[39;49m\u001b[38;5;241;43m.\u001b[39;49m\u001b[43m_wait_for_tstate_lock\u001b[49m\u001b[43m(\u001b[49m\u001b[43m)\u001b[49m\n\u001b[1;32m   1097\u001b[0m \u001b[38;5;28;01melse\u001b[39;00m:\n\u001b[1;32m   1098\u001b[0m     \u001b[38;5;66;03m# the behavior of a negative timeout isn't documented, but\u001b[39;00m\n\u001b[1;32m   1099\u001b[0m     \u001b[38;5;66;03m# historically .join(timeout=x) for x<0 has acted as if timeout=0\u001b[39;00m\n",
      "File \u001b[0;32m~/miniconda3/envs/HDXER_ENV/lib/python3.10/threading.py:1116\u001b[0m, in \u001b[0;36mThread._wait_for_tstate_lock\u001b[0;34m(self, block, timeout)\u001b[0m\n\u001b[1;32m   1115\u001b[0m \u001b[38;5;28;01mtry\u001b[39;00m:\n\u001b[0;32m-> 1116\u001b[0m     \u001b[38;5;28;01mif\u001b[39;00m \u001b[43mlock\u001b[49m\u001b[38;5;241;43m.\u001b[39;49m\u001b[43macquire\u001b[49m\u001b[43m(\u001b[49m\u001b[43mblock\u001b[49m\u001b[43m,\u001b[49m\u001b[43m \u001b[49m\u001b[43mtimeout\u001b[49m\u001b[43m)\u001b[49m:\n\u001b[1;32m   1117\u001b[0m         lock\u001b[38;5;241m.\u001b[39mrelease()\n",
      "\u001b[0;31mKeyboardInterrupt\u001b[0m: ",
      "\nDuring handling of the above exception, another exception occurred:\n",
      "\u001b[0;31mTypeError\u001b[0m                                 Traceback (most recent call last)",
      "Cell \u001b[0;32mIn[15], line 1\u001b[0m\n\u001b[0;32m----> 1\u001b[0m train_dfs, val_dfs, train_gammas, val_gammas \u001b[38;5;241m=\u001b[39m \u001b[43mVDX\u001b[49m\u001b[38;5;241;43m.\u001b[39;49m\u001b[43mrun_VDX\u001b[49m\u001b[43m(\u001b[49m\u001b[43mcalc_name\u001b[49m\u001b[38;5;241;43m=\u001b[39;49m\u001b[43mtest_name\u001b[49m\u001b[43m,\u001b[49m\u001b[43m \u001b[49m\u001b[43mexpt_name\u001b[49m\u001b[38;5;241;43m=\u001b[39;49m\u001b[43mexpt_name\u001b[49m\u001b[43m)\u001b[49m\n",
      "File \u001b[0;32m~/Documents/ValDX/ValDX/ValidationDX.py:354\u001b[0m, in \u001b[0;36mValDXer.run_VDX\u001b[0;34m(self, calc_name, expt_name, mode, n_reps, random_seeds)\u001b[0m\n\u001b[1;32m    348\u001b[0m _, train_rep_name, val_rep_name \u001b[38;5;241m=\u001b[39m \u001b[38;5;28mself\u001b[39m\u001b[38;5;241m.\u001b[39msplit_segments(seg_name\u001b[38;5;241m=\u001b[39mexpt_name,\n\u001b[1;32m    349\u001b[0m                                                       calc_name\u001b[38;5;241m=\u001b[39mcalc_name, \n\u001b[1;32m    350\u001b[0m                                                       rep\u001b[38;5;241m=\u001b[39mrep, \n\u001b[1;32m    351\u001b[0m                                                       random_seed\u001b[38;5;241m=\u001b[39mrandom_seeds[rep\u001b[38;5;241m-\u001b[39m\u001b[38;5;241m1\u001b[39m])\n\u001b[1;32m    353\u001b[0m \u001b[38;5;66;03m# train HDX\u001b[39;00m\n\u001b[0;32m--> 354\u001b[0m train_opt_gamma, train_df \u001b[38;5;241m=\u001b[39m \u001b[38;5;28;43mself\u001b[39;49m\u001b[38;5;241;43m.\u001b[39;49m\u001b[43mtrain_HDX\u001b[49m\u001b[43m(\u001b[49m\u001b[43mcalc_name\u001b[49m\u001b[38;5;241;43m=\u001b[39;49m\u001b[43mcalc_name\u001b[49m\u001b[43m,\u001b[49m\u001b[43m \u001b[49m\n\u001b[1;32m    355\u001b[0m \u001b[43m                                           \u001b[49m\u001b[43mexpt_name\u001b[49m\u001b[38;5;241;43m=\u001b[39;49m\u001b[43mexpt_name\u001b[49m\u001b[43m,\u001b[49m\u001b[43m \u001b[49m\n\u001b[1;32m    356\u001b[0m \u001b[43m                                           \u001b[49m\u001b[43mmode\u001b[49m\u001b[38;5;241;43m=\u001b[39;49m\u001b[43mmode\u001b[49m\u001b[43m,\u001b[49m\u001b[43m \u001b[49m\n\u001b[1;32m    357\u001b[0m \u001b[43m                                           \u001b[49m\u001b[43mrep\u001b[49m\u001b[38;5;241;43m=\u001b[39;49m\u001b[43mrep\u001b[49m\u001b[43m)\u001b[49m\n\u001b[1;32m    358\u001b[0m train_gammas\u001b[38;5;241m.\u001b[39mappend(train_opt_gamma)\n\u001b[1;32m    360\u001b[0m \u001b[38;5;66;03m# validation HDX\u001b[39;00m\n",
      "File \u001b[0;32m~/Documents/ValDX/ValDX/ValidationDX.py:404\u001b[0m, in \u001b[0;36mValDXer.train_HDX\u001b[0;34m(self, calc_name, expt_name, mode, rep)\u001b[0m\n\u001b[1;32m    398\u001b[0m rep_df, _ \u001b[38;5;241m=\u001b[39m \u001b[38;5;28mself\u001b[39m\u001b[38;5;241m.\u001b[39mpredict_HDX(calc_name\u001b[38;5;241m=\u001b[39mcalc_name, \n\u001b[1;32m    399\u001b[0m                              rep\u001b[38;5;241m=\u001b[39mrep, \n\u001b[1;32m    400\u001b[0m                              train\u001b[38;5;241m=\u001b[39m\u001b[38;5;28;01mTrue\u001b[39;00m)\n\u001b[1;32m    402\u001b[0m \u001b[38;5;66;03m# add df to HDX_data\u001b[39;00m\n\u001b[0;32m--> 404\u001b[0m gamma, df \u001b[38;5;241m=\u001b[39m \u001b[38;5;28;43mself\u001b[39;49m\u001b[38;5;241;43m.\u001b[39;49m\u001b[43mreweight_HDX\u001b[49m\u001b[43m(\u001b[49m\u001b[43mexpt_name\u001b[49m\u001b[38;5;241;43m=\u001b[39;49m\u001b[43mexpt_name\u001b[49m\u001b[43m,\u001b[49m\u001b[43m \u001b[49m\n\u001b[1;32m    405\u001b[0m \u001b[43m                              \u001b[49m\u001b[43mcalc_name\u001b[49m\u001b[38;5;241;43m=\u001b[39;49m\u001b[43mcalc_name\u001b[49m\u001b[43m,\u001b[49m\u001b[43m \u001b[49m\n\u001b[1;32m    406\u001b[0m \u001b[43m                              \u001b[49m\u001b[43mtrain\u001b[49m\u001b[38;5;241;43m=\u001b[39;49m\u001b[38;5;28;43;01mTrue\u001b[39;49;00m\u001b[43m,\u001b[49m\u001b[43m \u001b[49m\n\u001b[1;32m    407\u001b[0m \u001b[43m                              \u001b[49m\u001b[43mrep\u001b[49m\u001b[38;5;241;43m=\u001b[39;49m\u001b[43mrep\u001b[49m\u001b[43m)\u001b[49m\n\u001b[1;32m    409\u001b[0m \u001b[38;5;28mself\u001b[39m\u001b[38;5;241m.\u001b[39mHDX_data \u001b[38;5;241m=\u001b[39m pd\u001b[38;5;241m.\u001b[39mconcat([\u001b[38;5;28mself\u001b[39m\u001b[38;5;241m.\u001b[39mHDX_data, df], ignore_index\u001b[38;5;241m=\u001b[39m\u001b[38;5;28;01mTrue\u001b[39;00m)\n\u001b[1;32m    410\u001b[0m \u001b[38;5;66;03m# train_opt_gammas.append(gamma)\u001b[39;00m\n\u001b[1;32m    411\u001b[0m \n\u001b[1;32m    412\u001b[0m \u001b[38;5;66;03m# mean_opt_gamma = np.mean(train_opt_gammas)\u001b[39;00m\n",
      "File \u001b[0;32m~/Documents/ValDX/ValDX/ValidationDX.py:280\u001b[0m, in \u001b[0;36mValDXer.reweight_HDX\u001b[0;34m(self, expt_name, calc_name, gamma_range, train, rep, train_gamma)\u001b[0m\n\u001b[1;32m    277\u001b[0m     \u001b[38;5;28;01mwith\u001b[39;00m concurrent\u001b[38;5;241m.\u001b[39mfutures\u001b[38;5;241m.\u001b[39mProcessPoolExecutor() \u001b[38;5;28;01mas\u001b[39;00m executor:\n\u001b[1;32m    278\u001b[0m         executor\u001b[38;5;241m.\u001b[39mmap(run_MaxEnt, args_r)\n\u001b[0;32m--> 280\u001b[0m \u001b[38;5;28;01mexcept\u001b[39;00m \u001b[38;5;167;01mUserWarning\u001b[39;00m(\u001b[38;5;124m\"\u001b[39m\u001b[38;5;124mConcurrent.futures failed. Trying without concurrent.futures\u001b[39m\u001b[38;5;124m\"\u001b[39m):\n\u001b[1;32m    281\u001b[0m     \u001b[38;5;28;01mfor\u001b[39;00m r \u001b[38;5;129;01min\u001b[39;00m \u001b[38;5;28mrange\u001b[39m(\u001b[38;5;241m*\u001b[39mgamma_range):\n\u001b[1;32m    282\u001b[0m         \u001b[38;5;28mprint\u001b[39m(\u001b[38;5;124mf\u001b[39m\u001b[38;5;124m\"\u001b[39m\u001b[38;5;124mReweighting \u001b[39m\u001b[38;5;132;01m{\u001b[39;00mrep_name\u001b[38;5;132;01m}\u001b[39;00m\u001b[38;5;124m with gamma = \u001b[39m\u001b[38;5;132;01m{\u001b[39;00mr\u001b[38;5;132;01m}\u001b[39;00m\u001b[38;5;124mx10^\u001b[39m\u001b[38;5;132;01m{\u001b[39;00margs[\u001b[38;5;124m'\u001b[39m\u001b[38;5;124mexponent\u001b[39m\u001b[38;5;124m'\u001b[39m]\u001b[38;5;132;01m}\u001b[39;00m\u001b[38;5;124m\"\u001b[39m)\n",
      "\u001b[0;31mTypeError\u001b[0m: catching classes that do not inherit from BaseException is not allowed"
     ]
    }
   ],
   "source": [
    "train_dfs, val_dfs, train_gammas, val_gammas = VDX.run_VDX(calc_name=test_name, expt_name=expt_name)"
   ]
  },
  {
   "cell_type": "code",
   "execution_count": null,
   "metadata": {},
   "outputs": [
    {
     "name": "stdout",
     "output_type": "stream",
     "text": [
      "Saving experiment to:  logs/test_full0.5__celeste7_1705944404.pkl\n",
      "Saving pickle dump_test_full0.5__celeste7.pickle\n"
     ]
    },
    {
     "name": "stderr",
     "output_type": "stream",
     "text": [
      "/home/alexi/Documents/ValDX/ValDX/Experiment_ABC.py:300: UserWarning: Reader has no dt information, set to 1.0 ps\n",
      "  pickle.dump(self, f)\n"
     ]
    }
   ],
   "source": [
    "VDX.save_experiment()\n",
    "\n",
    "dump = train_dfs, val_dfs, train_gammas, val_gammas\n",
    "\n",
    "import pickle\n",
    "with open(f'dump_{VDX.name}.pickle', 'wb') as f:\n",
    "    print(f\"Saving pickle\", f'dump_{VDX.name}.pickle')\n",
    "    pickle.dump(dump, f)"
   ]
  },
  {
   "cell_type": "code",
   "execution_count": null,
   "metadata": {},
   "outputs": [
    {
     "ename": "SyntaxError",
     "evalue": "'break' outside loop (668683560.py, line 1)",
     "output_type": "error",
     "traceback": [
      "\u001b[0;36m  Cell \u001b[0;32mIn[17], line 1\u001b[0;36m\u001b[0m\n\u001b[0;31m    break\u001b[0m\n\u001b[0m    ^\u001b[0m\n\u001b[0;31mSyntaxError\u001b[0m\u001b[0;31m:\u001b[0m 'break' outside loop\n"
     ]
    }
   ],
   "source": [
    "break"
   ]
  },
  {
   "cell_type": "code",
   "execution_count": null,
   "metadata": {},
   "outputs": [],
   "source": [
    "# VDX = VDX.load_experiment(load_path='logs/test_full0.50_1705421531.pkl')"
   ]
  },
  {
   "cell_type": "code",
   "execution_count": null,
   "metadata": {},
   "outputs": [],
   "source": [
    "with open('dump_test_full0.50.pickle', 'rb') as f:\n",
    "    dump = pickle.load(f)\n",
    "\n",
    "train_dfs, val_dfs, train_gammas, val_gammas = dump\n",
    "\n",
    "VDX.evaluate_HDX(train_dfs=train_dfs, \n",
    "                 val_dfs=val_dfs, \n",
    "                 calc_name=test_name,\n",
    "                 expt_name=expt_name,\n",
    "                 train_gammas=train_gammas, \n",
    "                 val_gammas=val_gammas, \n",
    "                 n_reps=VDX.settings.replicates,\n",
    "                   )"
   ]
  },
  {
   "cell_type": "markdown",
   "metadata": {},
   "source": []
  },
  {
   "cell_type": "markdown",
   "metadata": {},
   "source": []
  },
  {
   "cell_type": "markdown",
   "metadata": {},
   "source": []
  },
  {
   "cell_type": "markdown",
   "metadata": {},
   "source": []
  },
  {
   "cell_type": "markdown",
   "metadata": {},
   "source": []
  },
  {
   "cell_type": "code",
   "execution_count": null,
   "metadata": {},
   "outputs": [],
   "source": [
    "import pandas as pd"
   ]
  },
  {
   "cell_type": "markdown",
   "metadata": {},
   "source": []
  },
  {
   "cell_type": "code",
   "execution_count": null,
   "metadata": {},
   "outputs": [],
   "source": [
    "# file_name = \"covid_submissions_all_info.csv\""
   ]
  },
  {
   "cell_type": "code",
   "execution_count": null,
   "metadata": {},
   "outputs": [],
   "source": [
    "# sub_test = pd.read_csv(file_name)"
   ]
  },
  {
   "cell_type": "code",
   "execution_count": null,
   "metadata": {},
   "outputs": [],
   "source": [
    "# sub_test.columns.to_list()"
   ]
  },
  {
   "cell_type": "markdown",
   "metadata": {},
   "source": []
  },
  {
   "cell_type": "code",
   "execution_count": null,
   "metadata": {},
   "outputs": [],
   "source": []
  },
  {
   "cell_type": "code",
   "execution_count": null,
   "metadata": {},
   "outputs": [],
   "source": []
  }
 ],
 "metadata": {
  "kernelspec": {
   "display_name": "HDXER_ENV",
   "language": "python",
   "name": "python3"
  },
  "language_info": {
   "codemirror_mode": {
    "name": "ipython",
    "version": 3
   },
   "file_extension": ".py",
   "mimetype": "text/x-python",
   "name": "python",
   "nbconvert_exporter": "python",
   "pygments_lexer": "ipython3",
   "version": "3.10.13"
  }
 },
 "nbformat": 4,
 "nbformat_minor": 2
}
