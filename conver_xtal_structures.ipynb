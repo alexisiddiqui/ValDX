{
 "cells": [
  {
   "cell_type": "code",
   "execution_count": 20,
   "metadata": {},
   "outputs": [],
   "source": [
    "# repairing PDB files\n",
    "import os\n",
    "from ValDX.VDX_Settings import Settings\n"
   ]
  },
  {
   "cell_type": "code",
   "execution_count": 38,
   "metadata": {},
   "outputs": [],
   "source": [
    "pdb_codes = [\"5PTI\", \"3MXF\", \"4LJO\", \"5AVI\", \"1ANF\"]\n",
    "\n",
    "pdb_codes = [\"6SC5\"]"
   ]
  },
  {
   "cell_type": "code",
   "execution_count": 39,
   "metadata": {},
   "outputs": [],
   "source": [
    "xtal_dir = [\"raw_data\", \"raw_pdbs\", \"xtal_pdbs\"]\n",
    "chain_A_dir = [\"raw_data\", \"raw_pdbs\", \"chain_A_pdbs\"]\n",
    "xtal_dir = os.path.join(*xtal_dir)\n",
    "chain_A_dir = os.path.join(*chain_A_dir)\n",
    "os.makedirs(xtal_dir, exist_ok=True)\n",
    "os.makedirs(chain_A_dir, exist_ok=True)\n",
    "\n"
   ]
  },
  {
   "cell_type": "code",
   "execution_count": 40,
   "metadata": {},
   "outputs": [],
   "source": [
    "for pdb in pdb_codes:\n",
    "    # pdb_fetch\n",
    "    # continue\n",
    "    pdb_name = pdb + \".pdb\"\n",
    "    pdb_file = os.path.join(xtal_dir, pdb_name)\n",
    "    !pdb_fetch $pdb > $pdb_file\n",
    "    \n",
    "    # select chain A remove HETATM and water\n",
    "    pdb_chain_A = pdb + \"_chain_A.pdb\"\n",
    "    pdb_A_path = os.path.join(chain_A_dir, pdb_chain_A)\n",
    "    !pdb_selchain -A $pdb_file | pdb_delhetatm > $pdb_A_path\n"
   ]
  },
  {
   "cell_type": "code",
   "execution_count": null,
   "metadata": {},
   "outputs": [],
   "source": []
  },
  {
   "cell_type": "code",
   "execution_count": 41,
   "metadata": {},
   "outputs": [],
   "source": [
    "# add missing residues\n",
    "fixed_pdb_dir = [\"raw_data\", \"raw_pdbs\", \"fixed_pdbs\"]\n",
    "fixed_pdb_dir = os.path.join(*fixed_pdb_dir)\n",
    "os.makedirs(fixed_pdb_dir, exist_ok=True)\n",
    "\n",
    "\n",
    "\n"
   ]
  },
  {
   "cell_type": "code",
   "execution_count": 42,
   "metadata": {},
   "outputs": [
    {
     "name": "stdout",
     "output_type": "stream",
     "text": [
      "['4LJO_chain_A.pdb', '6SC5_chain_A.pdb', '3MXF_chain_A.pdb', '5AVI_chain_A.pdb', '5PTI_chain_A.pdb', '1ANF_chain_A.pdb']\n"
     ]
    },
    {
     "ename": "SyntaxError",
     "evalue": "'break' outside loop (1284887402.py, line 6)",
     "output_type": "error",
     "traceback": [
      "\u001b[0;36m  Cell \u001b[0;32mIn[42], line 6\u001b[0;36m\u001b[0m\n\u001b[0;31m    break\u001b[0m\n\u001b[0m    ^\u001b[0m\n\u001b[0;31mSyntaxError\u001b[0m\u001b[0;31m:\u001b[0m 'break' outside loop\n"
     ]
    }
   ],
   "source": [
    "HOIP_pdb = [\"4LJO\"]\n",
    "\n",
    "chain_A_pdbs = os.listdir(chain_A_dir)\n",
    "print(chain_A_pdbs)\n",
    "HOIP_pdb_name = [pdb for pdb in chain_A_pdbs if HOIP_pdb[0] in pdb]\n",
    "break\n",
    "\n",
    "HOIP_pdb_path = os.path.join(chain_A_dir, HOIP_pdb_name[0])\n",
    "\n",
    "print(HOIP_pdb_path)\n",
    "\n",
    "fixed_HOIP_pdb_path = os.path.join(fixed_pdb_dir, HOIP_pdb_name[0])\n",
    "\n",
    "!pdb_reres -7 $HOIP_pdb_path > $fixed_HOIP_pdb_path\n"
   ]
  },
  {
   "cell_type": "code",
   "execution_count": null,
   "metadata": {},
   "outputs": [],
   "source": []
  },
  {
   "cell_type": "code",
   "execution_count": 43,
   "metadata": {},
   "outputs": [],
   "source": [
    "# fix missing atoms using PDBFixer\n",
    "from pdbfixer import PDBFixer\n",
    "\n",
    "from openmm.app import PDBFile\n"
   ]
  },
  {
   "cell_type": "code",
   "execution_count": 45,
   "metadata": {},
   "outputs": [
    {
     "name": "stdout",
     "output_type": "stream",
     "text": [
      "['3MXF_chain_A.pdb', '6SC5_chain_A_fixed.pdb', '4LJO_chain_A_fixed.pdb', '5AVI_chain_A_fixed.pdb', '5PTI_chain_A.pdb', '1ANF_chain_A.pdb']\n",
      "6\n"
     ]
    }
   ],
   "source": [
    "clean_pdb_dir = [\"raw_data\", \"raw_pdbs\", \"clean_pdbs\"]\n",
    "clean_pdb_dir = os.path.join(*clean_pdb_dir)\n",
    "os.makedirs(clean_pdb_dir, exist_ok=True)\n",
    "\n",
    "pdb_list = os.listdir(fixed_pdb_dir)\n",
    "print(pdb_list)\n",
    "print(len(pdb_list))\n",
    "# break\n"
   ]
  },
  {
   "cell_type": "code",
   "execution_count": 46,
   "metadata": {},
   "outputs": [],
   "source": [
    "for pdb in pdb_list:\n",
    "\n",
    "    pdb_path = os.path.join(fixed_pdb_dir, pdb)\n",
    "    fixer = PDBFixer(pdb_path)\n",
    "    fixer.findMissingResidues()\n",
    "    # fixer.findNonstandardResidues()\n",
    "    # fixer.replaceNonstandardResidues()\n",
    "    fixer.removeHeterogens(keepWater=False)\n",
    "    fixer.findMissingAtoms()\n",
    "    fixer.addMissingAtoms()\n",
    "\n",
    "\n",
    "    fixer.addMissingHydrogens(7.0)\n",
    "    filename = os.path.join(clean_pdb_dir, pdb)\n",
    "    PDBFile.writeFile(fixer.topology, fixer.positions, open(filename, 'w'))\n",
    "        "
   ]
  },
  {
   "cell_type": "code",
   "execution_count": 37,
   "metadata": {},
   "outputs": [
    {
     "name": "stdout",
     "output_type": "stream",
     "text": [
      "['5AVI_chain_A_fixed.pdb']\n"
     ]
    }
   ],
   "source": [
    "LXR_pdb = \"5AVI\"\n",
    "clean_pdbs = os.listdir(clean_pdb_dir)\n",
    "LXR_pdb_name = [pdb for pdb in clean_pdbs if LXR_pdb in pdb]\n",
    "LXR_pdb_name = [name for name in LXR_pdb_name if \".pdb\" in name]\n",
    "print(LXR_pdb_name)\n",
    "LXR_pdb_path = os.path.join(clean_pdb_dir, LXR_pdb_name[0])\n",
    "renumbered_LXR_pdb_path = LXR_pdb_name[0].replace(\".pdb\", \"_renumbered.pdb\")\n",
    "\n",
    "renumbered_LXR_pdb_path = os.path.join(clean_pdb_dir, renumbered_LXR_pdb_path)\n",
    "\n",
    "!pdb_reres -208 $LXR_pdb_path > $renumbered_LXR_pdb_path"
   ]
  },
  {
   "cell_type": "code",
   "execution_count": null,
   "metadata": {},
   "outputs": [],
   "source": [
    "\n"
   ]
  }
 ],
 "metadata": {
  "kernelspec": {
   "display_name": "HDXER_ENV",
   "language": "python",
   "name": "python3"
  },
  "language_info": {
   "codemirror_mode": {
    "name": "ipython",
    "version": 3
   },
   "file_extension": ".py",
   "mimetype": "text/x-python",
   "name": "python",
   "nbconvert_exporter": "python",
   "pygments_lexer": "ipython3",
   "version": "3.8.18"
  }
 },
 "nbformat": 4,
 "nbformat_minor": 2
}
